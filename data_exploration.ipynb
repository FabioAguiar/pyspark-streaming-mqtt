{
 "cells": [
  {
   "cell_type": "code",
   "execution_count": 1,
   "id": "89a91de3",
   "metadata": {},
   "outputs": [
    {
     "name": "stderr",
     "output_type": "stream",
     "text": [
      "/opt/spark/python/pyspark/pandas/__init__.py:49: UserWarning: 'PYARROW_IGNORE_TIMEZONE' environment variable was not set. It is required to set this environment variable to '1' in both driver and executor sides if you use pyarrow>=2.0.0. pandas-on-Spark will set it for you but it does not work if there is a Spark context already launched.\n",
      "  warnings.warn(\n"
     ]
    }
   ],
   "source": [
    "import findspark\n",
    "findspark.init()\n",
    "\n",
    "import os\n",
    "import pyspark.pandas as pspd\n",
    "%matplotlib inline"
   ]
  },
  {
   "cell_type": "code",
   "execution_count": 2,
   "id": "c14b3e5b",
   "metadata": {},
   "outputs": [
    {
     "name": "stderr",
     "output_type": "stream",
     "text": [
      "/opt/spark/python/pyspark/pandas/utils.py:975: PandasAPIOnSparkAdviceWarning: If `index_col` is not specified for `read_parquet`, the default index is attached which can cause additional overhead.\n",
      "  warnings.warn(message, PandasAPIOnSparkAdviceWarning)\n"
     ]
    },
    {
     "name": "stdout",
     "output_type": "stream",
     "text": [
      "23/05/08 16:14:22 WARN Utils: Your hostname, vmserver resolves to a loopback address: 127.0.1.1; using 192.168.0.103 instead (on interface enp0s3)\n",
      "23/05/08 16:14:22 WARN Utils: Set SPARK_LOCAL_IP if you need to bind to another address\n"
     ]
    },
    {
     "name": "stderr",
     "output_type": "stream",
     "text": [
      "Setting default log level to \"WARN\".\n",
      "To adjust logging level use sc.setLogLevel(newLevel). For SparkR, use setLogLevel(newLevel).\n"
     ]
    },
    {
     "name": "stdout",
     "output_type": "stream",
     "text": [
      "23/05/08 16:14:22 WARN NativeCodeLoader: Unable to load native-hadoop library for your platform... using builtin-java classes where applicable\n"
     ]
    }
   ],
   "source": [
    "home_path = os.path.expanduser('~')\n",
    "psdf = pspd.read_parquet(home_path + \"/projects/pyspark-streaming-mqtt/data/streaming_output.parquet\")"
   ]
  },
  {
   "cell_type": "code",
   "execution_count": 3,
   "id": "23106c0a",
   "metadata": {},
   "outputs": [
    {
     "data": {
      "text/html": [
       "<div>\n",
       "<style scoped>\n",
       "    .dataframe tbody tr th:only-of-type {\n",
       "        vertical-align: middle;\n",
       "    }\n",
       "\n",
       "    .dataframe tbody tr th {\n",
       "        vertical-align: top;\n",
       "    }\n",
       "\n",
       "    .dataframe thead th {\n",
       "        text-align: right;\n",
       "    }\n",
       "</style>\n",
       "<table border=\"1\" class=\"dataframe\">\n",
       "  <thead>\n",
       "    <tr style=\"text-align: right;\">\n",
       "      <th></th>\n",
       "      <th>local</th>\n",
       "      <th>device_name</th>\n",
       "      <th>sensor_name</th>\n",
       "      <th>type</th>\n",
       "      <th>data</th>\n",
       "      <th>date_time</th>\n",
       "    </tr>\n",
       "  </thead>\n",
       "  <tbody>\n",
       "    <tr>\n",
       "      <th>1</th>\n",
       "      <td>Home</td>\n",
       "      <td>ESP8266</td>\n",
       "      <td>DHT11</td>\n",
       "      <td>temperatura</td>\n",
       "      <td>27.00</td>\n",
       "      <td>8/5/2023 12:19:41</td>\n",
       "    </tr>\n",
       "    <tr>\n",
       "      <th>2</th>\n",
       "      <td>Home</td>\n",
       "      <td>ESP8266</td>\n",
       "      <td>DHT11</td>\n",
       "      <td>temperatura</td>\n",
       "      <td>27.00</td>\n",
       "      <td>8/5/2023 12:19:34</td>\n",
       "    </tr>\n",
       "    <tr>\n",
       "      <th>3</th>\n",
       "      <td>Home</td>\n",
       "      <td>ESP8266</td>\n",
       "      <td>DHT11</td>\n",
       "      <td>temperatura</td>\n",
       "      <td>27.00</td>\n",
       "      <td>8/5/2023 12:19:28</td>\n",
       "    </tr>\n",
       "    <tr>\n",
       "      <th>4</th>\n",
       "      <td>Home</td>\n",
       "      <td>ESP8266</td>\n",
       "      <td>DHT11</td>\n",
       "      <td>temperatura</td>\n",
       "      <td>27.00</td>\n",
       "      <td>8/5/2023 12:19:10</td>\n",
       "    </tr>\n",
       "    <tr>\n",
       "      <th>5</th>\n",
       "      <td>Home</td>\n",
       "      <td>ESP8266</td>\n",
       "      <td>DHT11</td>\n",
       "      <td>temperatura</td>\n",
       "      <td>27.00</td>\n",
       "      <td>8/5/2023 12:19:16</td>\n",
       "    </tr>\n",
       "    <tr>\n",
       "      <th>6</th>\n",
       "      <td>Home</td>\n",
       "      <td>ESP8266</td>\n",
       "      <td>DHT11</td>\n",
       "      <td>temperatura</td>\n",
       "      <td>27.00</td>\n",
       "      <td>8/5/2023 12:19:22</td>\n",
       "    </tr>\n",
       "    <tr>\n",
       "      <th>7</th>\n",
       "      <td>Home</td>\n",
       "      <td>ESP8266</td>\n",
       "      <td>DHT11</td>\n",
       "      <td>temperatura</td>\n",
       "      <td>28.00</td>\n",
       "      <td>8/5/2023 12:18:57</td>\n",
       "    </tr>\n",
       "    <tr>\n",
       "      <th>8</th>\n",
       "      <td>Home</td>\n",
       "      <td>ESP8266</td>\n",
       "      <td>DHT11</td>\n",
       "      <td>temperatura</td>\n",
       "      <td>27.00</td>\n",
       "      <td>8/5/2023 12:19:4</td>\n",
       "    </tr>\n",
       "    <tr>\n",
       "      <th>9</th>\n",
       "      <td>Home</td>\n",
       "      <td>ESP8266</td>\n",
       "      <td>DHT11</td>\n",
       "      <td>umidade</td>\n",
       "      <td>14.00</td>\n",
       "      <td>8/5/2023 12:19:40</td>\n",
       "    </tr>\n",
       "    <tr>\n",
       "      <th>10</th>\n",
       "      <td>Home</td>\n",
       "      <td>ESP8266</td>\n",
       "      <td>DHT11</td>\n",
       "      <td>umidade</td>\n",
       "      <td>14.00</td>\n",
       "      <td>8/5/2023 12:19:33</td>\n",
       "    </tr>\n",
       "    <tr>\n",
       "      <th>11</th>\n",
       "      <td>Home</td>\n",
       "      <td>ESP8266</td>\n",
       "      <td>DHT11</td>\n",
       "      <td>umidade</td>\n",
       "      <td>14.00</td>\n",
       "      <td>8/5/2023 12:19:27</td>\n",
       "    </tr>\n",
       "    <tr>\n",
       "      <th>12</th>\n",
       "      <td>Home</td>\n",
       "      <td>ESP8266</td>\n",
       "      <td>DHT11</td>\n",
       "      <td>umidade</td>\n",
       "      <td>14.00</td>\n",
       "      <td>8/5/2023 12:19:21</td>\n",
       "    </tr>\n",
       "    <tr>\n",
       "      <th>13</th>\n",
       "      <td>Home</td>\n",
       "      <td>ESP8266</td>\n",
       "      <td>DHT11</td>\n",
       "      <td>umidade</td>\n",
       "      <td>14.00</td>\n",
       "      <td>8/5/2023 12:18:56</td>\n",
       "    </tr>\n",
       "    <tr>\n",
       "      <th>14</th>\n",
       "      <td>Home</td>\n",
       "      <td>ESP8266</td>\n",
       "      <td>DHT11</td>\n",
       "      <td>umidade</td>\n",
       "      <td>14.00</td>\n",
       "      <td>8/5/2023 12:19:15</td>\n",
       "    </tr>\n",
       "    <tr>\n",
       "      <th>15</th>\n",
       "      <td>Home</td>\n",
       "      <td>ESP8266</td>\n",
       "      <td>DHT11</td>\n",
       "      <td>umidade</td>\n",
       "      <td>14.00</td>\n",
       "      <td>8/5/2023 12:19:9</td>\n",
       "    </tr>\n",
       "    <tr>\n",
       "      <th>16</th>\n",
       "      <td>Home</td>\n",
       "      <td>ESP8266</td>\n",
       "      <td>DHT11</td>\n",
       "      <td>umidade</td>\n",
       "      <td>14.00</td>\n",
       "      <td>8/5/2023 12:19:2</td>\n",
       "    </tr>\n",
       "  </tbody>\n",
       "</table>\n",
       "</div>"
      ],
      "text/plain": [
       "   local device_name sensor_name         type   data          date_time\n",
       "1   Home     ESP8266       DHT11  temperatura  27.00  8/5/2023 12:19:41\n",
       "2   Home     ESP8266       DHT11  temperatura  27.00  8/5/2023 12:19:34\n",
       "3   Home     ESP8266       DHT11  temperatura  27.00  8/5/2023 12:19:28\n",
       "4   Home     ESP8266       DHT11  temperatura  27.00  8/5/2023 12:19:10\n",
       "5   Home     ESP8266       DHT11  temperatura  27.00  8/5/2023 12:19:16\n",
       "6   Home     ESP8266       DHT11  temperatura  27.00  8/5/2023 12:19:22\n",
       "7   Home     ESP8266       DHT11  temperatura  28.00  8/5/2023 12:18:57\n",
       "8   Home     ESP8266       DHT11  temperatura  27.00   8/5/2023 12:19:4\n",
       "9   Home     ESP8266       DHT11      umidade  14.00  8/5/2023 12:19:40\n",
       "10  Home     ESP8266       DHT11      umidade  14.00  8/5/2023 12:19:33\n",
       "11  Home     ESP8266       DHT11      umidade  14.00  8/5/2023 12:19:27\n",
       "12  Home     ESP8266       DHT11      umidade  14.00  8/5/2023 12:19:21\n",
       "13  Home     ESP8266       DHT11      umidade  14.00  8/5/2023 12:18:56\n",
       "14  Home     ESP8266       DHT11      umidade  14.00  8/5/2023 12:19:15\n",
       "15  Home     ESP8266       DHT11      umidade  14.00   8/5/2023 12:19:9\n",
       "16  Home     ESP8266       DHT11      umidade  14.00   8/5/2023 12:19:2"
      ]
     },
     "execution_count": 3,
     "metadata": {},
     "output_type": "execute_result"
    }
   ],
   "source": [
    "psdf"
   ]
  },
  {
   "cell_type": "code",
   "execution_count": 4,
   "id": "def7549c",
   "metadata": {},
   "outputs": [
    {
     "name": "stderr",
     "output_type": "stream",
     "text": [
      "/opt/spark/python/pyspark/pandas/internal.py:1573: FutureWarning: iteritems is deprecated and will be removed in a future version. Use .items instead.\n",
      "  fields = [\n",
      "/opt/spark/python/pyspark/sql/pandas/conversion.py:486: FutureWarning: iteritems is deprecated and will be removed in a future version. Use .items instead.\n",
      "  for column, series in pdf.iteritems():\n",
      "                                                                                \r"
     ]
    },
    {
     "data": {
      "text/plain": [
       "local          16\n",
       "device_name    16\n",
       "sensor_name    16\n",
       "type           16\n",
       "data           16\n",
       "date_time      16\n",
       "dtype: int64"
      ]
     },
     "execution_count": 4,
     "metadata": {},
     "output_type": "execute_result"
    }
   ],
   "source": [
    "psdf.count()"
   ]
  },
  {
   "cell_type": "code",
   "execution_count": null,
   "id": "331de833",
   "metadata": {},
   "outputs": [],
   "source": []
  },
  {
   "cell_type": "code",
   "execution_count": null,
   "id": "34f89685",
   "metadata": {},
   "outputs": [],
   "source": []
  },
  {
   "cell_type": "code",
   "execution_count": null,
   "id": "80ac4c05",
   "metadata": {},
   "outputs": [],
   "source": []
  },
  {
   "cell_type": "code",
   "execution_count": null,
   "id": "47d72f01",
   "metadata": {},
   "outputs": [],
   "source": []
  },
  {
   "cell_type": "code",
   "execution_count": null,
   "id": "d42a2c48",
   "metadata": {},
   "outputs": [],
   "source": []
  },
  {
   "cell_type": "code",
   "execution_count": null,
   "id": "96fb6596",
   "metadata": {},
   "outputs": [],
   "source": []
  }
 ],
 "metadata": {
  "kernelspec": {
   "display_name": "Python 3 (ipykernel)",
   "language": "python",
   "name": "python3"
  },
  "language_info": {
   "codemirror_mode": {
    "name": "ipython",
    "version": 3
   },
   "file_extension": ".py",
   "mimetype": "text/x-python",
   "name": "python",
   "nbconvert_exporter": "python",
   "pygments_lexer": "ipython3",
   "version": "3.10.6"
  }
 },
 "nbformat": 4,
 "nbformat_minor": 5
}
